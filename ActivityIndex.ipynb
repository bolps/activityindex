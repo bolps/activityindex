{
 "cells": [
  {
   "cell_type": "markdown",
   "metadata": {},
   "source": [
    "#### Activity Index"
   ]
  },
  {
   "cell_type": "markdown",
   "metadata": {},
   "source": [
    "This is a Python implementation of:\n",
    "\n",
    "Bai, J., Di, C., Xiao, L., Evenson, K. R., LaCroix, A. Z., Crainiceanu, C. M., & Buchner, D. M. (2016). An activity index for raw accelerometry data and its comparison with other activity metrics. *PloS one*, 11(8), e0160644."
   ]
  },
  {
   "cell_type": "markdown",
   "metadata": {},
   "source": [
    "##### Abstract\n",
    "\n",
    "Accelerometers have been widely deployed in public health studies in recent years. While they collect high-resolution acceleration signals (e.g., 10–100 Hz), research has mainly focused on summarized metrics provided by accelerometers manufactures, such as the activity count (AC) by ActiGraph or Actical. Such measures do not have a publicly available formula, lack a straightforward interpretation, and can vary by software implementation or hardware type. To address these problems, we propose the physical activity index (AI), a new metric for summarizing raw tri-axial accelerometry data. We compared this metric with the AC and another recently proposed metric for raw data, Euclidean Norm Minus One (ENMO), against energy expenditure. The comparison was conducted using data from the Objective Physical Activity and Cardiovascular Health Study, in which 194 women 60–91 years performed 9 lifestyle activities in the laboratory, wearing a tri-axial accelerometer (ActiGraph GT3X+) on the hip set to 30 Hz and an Oxycon portable calorimeter, to record both tri-axial acceleration time series (converted into AI, AC, and ENMO) and oxygen uptake during each activity (converted into metabolic equivalents (METs)) at the same time. Receiver operating characteristic analyses indicated that both AI and ENMO were more sensitive to moderate and vigorous physical activities than AC, while AI was more sensitive to sedentary and light activities than ENMO. AI had the highest coefficients of determination for METs (0.72) and was a better classifier of physical activity intensity than both AC (for all intensity levels) and ENMO (for sedentary and light intensity). The proposed AI provides a novel and transparent way to summarize densely sampled raw accelerometry data, and may serve as an alternative to AC. The AI’s largely improved sensitivity on sedentary and light activities over AC and ENMO further demonstrate its advantage in studies with older adults."
   ]
  },
  {
   "cell_type": "markdown",
   "metadata": {},
   "source": [
    "##### Formula\n",
    "\n",
    "<img src=\"/images/AIFormula.png\" alt=\"Activity Index Formula\" width=\"250\">\n",
    "\n",
    "Where $\\sigma_{im}^{2}(t;H)$ denote the variance of participant $i$’s acceleration signals along axis $m$ ($m$ = 1,2,3) in the window of length $H$ starting at $t$ and $\\bar{\\sigma}^{2}$ is the systematic variance.\n",
    "\n",
    "The systematic noise variance denoted by $\\bar{\\sigma}^{2}=\\sigma_{i1}^{2}+\\sigma_{i2}^{2}+\\sigma_{i3}^{2}$. $\\bar{\\sigma}^{2}$ depends on the accuracy of the device and can be calculated using raw data in periods while the accelerometer is not moving."
   ]
  },
  {
   "cell_type": "markdown",
   "metadata": {},
   "source": [
    "#### Libs"
   ]
  },
  {
   "cell_type": "code",
   "execution_count": 1,
   "metadata": {},
   "outputs": [],
   "source": [
    "import pandas as pd\n",
    "from math import sqrt"
   ]
  },
  {
   "cell_type": "markdown",
   "metadata": {},
   "source": [
    "#### Functions"
   ]
  },
  {
   "cell_type": "code",
   "execution_count": 2,
   "metadata": {},
   "outputs": [],
   "source": [
    "def getNoiseValue(df):\n",
    "    \"\"\"\n",
    "    Calculate the systematic noise variance based on the 'x', 'y', and 'z' columns in the provided DataFrame.\n",
    "\n",
    "    Parameters:\n",
    "    - df (pandas.DataFrame): The DataFrame containing accelerometer data.\n",
    "\n",
    "    Returns:\n",
    "    - sysnoise (float): The calculated systematic noise variance, which is the sum of variances of 'x', 'y', and 'z'.\n",
    "    \"\"\"\n",
    "    sysnoise = df['x'].var() + df['y'].var() + df['z'].var()\n",
    "    return sysnoise"
   ]
  },
  {
   "cell_type": "code",
   "execution_count": 3,
   "metadata": {},
   "outputs": [],
   "source": [
    "def getActivityIndex(df, noise):\n",
    "    \"\"\"\n",
    "    Calculate the activity index based on the variance of 'x', 'y', and 'z' columns in the provided DataFrame,\n",
    "    considering a given noise level.\n",
    "\n",
    "    Parameters:\n",
    "    - df (pandas.DataFrame): The DataFrame containing data for activity analysis.\n",
    "    - noise (float): The systematic noise level used for normalization.\n",
    "\n",
    "    Returns:\n",
    "    - float: The calculated activity index, which represents the normalized variability of the data.\n",
    "    \"\"\"\n",
    "    x = (df['x'].var() - noise) / noise\n",
    "    y = (df['y'].var() - noise) / noise\n",
    "    z = (df['z'].var() - noise) / noise\n",
    "    avg = (x+y+z)/3\n",
    "    max_value = max(avg,0)\n",
    "    return sqrt(max_value)"
   ]
  },
  {
   "cell_type": "code",
   "execution_count": 4,
   "metadata": {},
   "outputs": [],
   "source": [
    "def getSignalActivityIndex(df, noise, freq):\n",
    "    \"\"\"\n",
    "    Calculate activity index of a given signal over provided DataFrame, considering a given noise level.\n",
    "\n",
    "    Parameters:\n",
    "    - df (pandas.DataFrame): The DataFrame containing signal data for activity analysis.\n",
    "    - noise (float): The systematic noise level used for normalization.\n",
    "    - freq (int): The sampling frequency of the accelerometer.\n",
    "\n",
    "    Returns:\n",
    "    - tuple: A tuple containing the activity index fot the given signal (computed by summing up activity index of each second) and the signal duration (in seconds).\n",
    "    \"\"\"\n",
    "    nchunks = len(df) // freq\n",
    "    ai_signal = 0\n",
    "    for i in range(nchunks):\n",
    "        start = i*freq\n",
    "        end = i*freq+freq\n",
    "        ai = getActivityIndex(df.iloc[start:end], noise)\n",
    "        ai_signal = ai_signal + ai\n",
    "    return (ai_signal, len(df)//freq)"
   ]
  },
  {
   "cell_type": "markdown",
   "metadata": {},
   "source": [
    "#### Data loading"
   ]
  },
  {
   "cell_type": "code",
   "execution_count": 5,
   "metadata": {},
   "outputs": [],
   "source": [
    "sample = pd.read_csv('sample_GT3X+.csv', skiprows=15, names=['x','y','z'])"
   ]
  },
  {
   "cell_type": "code",
   "execution_count": 6,
   "metadata": {},
   "outputs": [],
   "source": [
    "noise = sample[1004700:1005600]"
   ]
  },
  {
   "cell_type": "markdown",
   "metadata": {},
   "source": [
    "#### Example"
   ]
  },
  {
   "cell_type": "code",
   "execution_count": 23,
   "metadata": {},
   "outputs": [],
   "source": [
    "signal = sample[150:600].copy()\n",
    "signal =  signal.reset_index()"
   ]
  },
  {
   "cell_type": "code",
   "execution_count": 24,
   "metadata": {},
   "outputs": [],
   "source": [
    "noise = sample[1004700:1005600]"
   ]
  },
  {
   "cell_type": "code",
   "execution_count": 25,
   "metadata": {},
   "outputs": [],
   "source": [
    "acc_noise = getNoiseValue(noise)"
   ]
  },
  {
   "cell_type": "code",
   "execution_count": 26,
   "metadata": {},
   "outputs": [
    {
     "data": {
      "text/plain": [
       "(454.5712212794799, 15)"
      ]
     },
     "execution_count": 26,
     "metadata": {},
     "output_type": "execute_result"
    }
   ],
   "source": [
    "getSignalActivityIndex(signal, acc_noise, 30)"
   ]
  }
 ],
 "metadata": {
  "colab": {
   "provenance": []
  },
  "kernelspec": {
   "display_name": "Python 3 (ipykernel)",
   "language": "python",
   "name": "python3"
  },
  "language_info": {
   "codemirror_mode": {
    "name": "ipython",
    "version": 3
   },
   "file_extension": ".py",
   "mimetype": "text/x-python",
   "name": "python",
   "nbconvert_exporter": "python",
   "pygments_lexer": "ipython3",
   "version": "3.11.5"
  }
 },
 "nbformat": 4,
 "nbformat_minor": 4
}
